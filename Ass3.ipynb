{
 "cells": [
  {
   "cell_type": "markdown",
   "metadata": {},
   "source": [
    "<h3>Q no 1:  Write a python program to find number of occurrences of given number in a list with out using built-in methods</h3>\n",
    "<h4>**1 generate a list of some random num which is repeated again and again</h4>\n",
    "<h4>**2 take user input any number</h4>\n",
    "<h4>**3 find the number of occurrences of that num in your list</h4>\n",
    "<h4>**4 print some message to user with that result</h4>"
   ]
  },
  {
   "cell_type": "code",
   "execution_count": 5,
   "metadata": {},
   "outputs": [
    {
     "name": "stdout",
     "output_type": "stream",
     "text": [
      "enter the number 4\n",
      "4\n"
     ]
    }
   ],
   "source": [
    "num=[1,2,2,3,3,4,4,5,5,6,5]\n",
    "a=int(input(\"enter the number \"))\n",
    "print(a)"
   ]
  },
  {
   "cell_type": "code",
   "execution_count": 40,
   "metadata": {},
   "outputs": [
    {
     "name": "stdout",
     "output_type": "stream",
     "text": [
      "enter the to check the occurnace.\n",
      "3\n",
      "1 occurrences\n",
      "2 occurrences\n"
     ]
    }
   ],
   "source": [
    "num=[1,2,2,3,3,4,4,5,5,6,5]\n",
    "b=float(input(\"enter the to check the occurnace.\\n\"))\n",
    "occurrences=0\n",
    "for x in num:\n",
    "    if b== x:\n",
    "        occurrences+=1\n",
    "        print(occurrences,\"occurrences\")\n",
    "           "
   ]
  },
  {
   "cell_type": "markdown",
   "metadata": {},
   "source": [
    "<h3>Q no 2:   [\"www.zframez.com\", \"www.wikipedia.org\", \"www.asp.net\", \"www.abcd.in\"]\n",
    "<br/><br/><br/><br/><br/>\n",
    "Write a python program to print website suffixes (com , org , net ,in) from this list\n",
    "\n",
    "Hint : Use split() method to perform this task\n",
    "</h3>\n"
   ]
  },
  {
   "cell_type": "code",
   "execution_count": 19,
   "metadata": {},
   "outputs": [
    {
     "name": "stdout",
     "output_type": "stream",
     "text": [
      "com\n",
      "org\n",
      "net\n",
      "in\n"
     ]
    }
   ],
   "source": [
    "given_list=[\"www.zframez.com\", \"www.wikipedia.org\", \"www.asp.net\", \"www.abcd.in\"]\n",
    "for y in given_list:\n",
    "    z=y.split(\".\")[2]\n",
    "    print(z)"
   ]
  },
  {
   "cell_type": "markdown",
   "metadata": {},
   "source": [
    "<h3> Q no 3 : Write a program which can compute the factorial of a given numbers.</h3>\n",
    "<br/>\n",
    "<br/>\n",
    "<h4>**1 first take user input any number</h4>\n",
    "<h4>**2 calculate factorial of that input and then print the result to user</h4>"
   ]
  },
  {
   "cell_type": "code",
   "execution_count": 24,
   "metadata": {},
   "outputs": [
    {
     "name": "stdout",
     "output_type": "stream",
     "text": [
      "enter the number 5\n",
      "120\n"
     ]
    }
   ],
   "source": [
    "\n",
    "a=int(input(\"enter the number \"))\n",
    "fact=1\n",
    "for i in range(1,a+1):\n",
    "        fact=fact*i\n",
    "print(fact)\n",
    "        "
   ]
  },
  {
   "cell_type": "code",
   "execution_count": null,
   "metadata": {},
   "outputs": [],
   "source": []
  },
  {
   "cell_type": "code",
   "execution_count": null,
   "metadata": {},
   "outputs": [],
   "source": []
  },
  {
   "cell_type": "code",
   "execution_count": null,
   "metadata": {},
   "outputs": [],
   "source": []
  },
  {
   "cell_type": "markdown",
   "metadata": {},
   "source": [
    "<h3>Q 4 (a) :  If you could invite anyone, living or deceased, to dinner, who\n",
    "would you invite? Make a list that includes at least three people you’d like to\n",
    "invite to dinner. Then use your list to print a message to each person, inviting\n",
    "them to dinner.</h3>"
   ]
  },
  {
   "cell_type": "code",
   "execution_count": 37,
   "metadata": {},
   "outputs": [
    {
     "name": "stdout",
     "output_type": "stream",
     "text": [
      "sameer:please come my party today\n",
      "sharjeel:please come my party today\n",
      "ahmed:please come my party today\n"
     ]
    }
   ],
   "source": [
    "a=[\"sameer\",\"sharjeel\",\"ahmed\"]\n",
    "for i in a:\n",
    "     print(i + \":please come my party today\")"
   ]
  },
  {
   "cell_type": "code",
   "execution_count": null,
   "metadata": {},
   "outputs": [],
   "source": []
  },
  {
   "cell_type": "code",
   "execution_count": null,
   "metadata": {},
   "outputs": [],
   "source": []
  },
  {
   "cell_type": "markdown",
   "metadata": {},
   "source": [
    "<h3>Q 4 (b) : You just heard that one of your guests can’t make the\n",
    "dinner, so you need to send out a new set of invitations. You’ll have to think of\n",
    "someone else to invite.<br/></br><br/>\n",
    "•\t Start with your program from Q 4 (a). Add a print statement at the\n",
    "end of your program stating the name of the guest who can’t make it.<br/></br><br/>\n",
    "•\t Modify your list, replacing the name of the guest who can’t make it with\n",
    "the name of the new person you are inviting.<br/></br><br/>\n",
    "•\t Print a second set of invitation messages, one for each person who is still\n",
    "in your list.<br/></br><br/></h3>"
   ]
  },
  {
   "cell_type": "code",
   "execution_count": 11,
   "metadata": {},
   "outputs": [
    {
     "name": "stdout",
     "output_type": "stream",
     "text": [
      "sameer:please come my party today!\n",
      "sharjeel:please come my party today!\n",
      "ahmed:please come my party today!\n",
      "ahmed:sorry mistake , u don't come party \n",
      " my mistake invition send u !\n",
      "usama:my mistake i am late to invite the party \n",
      " please come my party today!\n"
     ]
    }
   ],
   "source": [
    "a=[\"sameer\",\"sharjeel\",\"ahmed\"]\n",
    "for i in a:\n",
    "     print(i + \":please come my party today!\")\n",
    "b=[\"ahmed\"]\n",
    "for x in b:\n",
    "             print(x +\":sorry mistake , u don't come party \\n my mistake invition send u !\")\n",
    "c=[\"usama\"]\n",
    "for y in c:\n",
    "            print(y + \":my mistake i am late to invite the party \\n please come my party today!\")    "
   ]
  },
  {
   "cell_type": "code",
   "execution_count": null,
   "metadata": {},
   "outputs": [],
   "source": []
  },
  {
   "cell_type": "code",
   "execution_count": null,
   "metadata": {},
   "outputs": [],
   "source": []
  },
  {
   "cell_type": "markdown",
   "metadata": {},
   "source": [
    "<h3>Q 4 (c) : You just found a bigger dinner table, so now more space is\n",
    "available. Think of three more guests to invite to dinner.<br/></br><br/>\n",
    "•\t Start with your program from Q 4 (a) and (b) Add a print\n",
    "statement to the end of your program informing people that you found a\n",
    "bigger dinner table.<br/></br><br/>\n",
    "•\t Use insert() to add one new guest to the beginning of your list.<br/></br><br/>\n",
    "•\t Use insert() to add one new guest to the middle of your list.<br/></br><br/>\n",
    "•\t Use append() to add one new guest to the end of your list.<br/></br><br/>\n",
    "•\t Print a new set of invitation messages, one for each person in your list.<br/></br><br/></h3>"
   ]
  },
  {
   "cell_type": "code",
   "execution_count": 23,
   "metadata": {},
   "outputs": [
    {
     "name": "stdout",
     "output_type": "stream",
     "text": [
      "sameer:please come my party today!\n",
      "sharjeel:please come my party today!\n",
      "ahmed:please come my party today!\n",
      "ahmed:sorry mistake , u don't come party \n",
      " my mistake invition send u !\n",
      "usama:my mistake i am late to invite the party \n",
      " please come my party today!\n"
     ]
    }
   ],
   "source": [
    "a=[\"sameer\",\"sharjeel\",\"ahmed\"]\n",
    "for i in a:\n",
    "     print(i + \":please come my party today!\")\n",
    "b=[\"ahmed\"]\n",
    "for x in b:\n",
    "             print(x +\":sorry mistake , u don't come party \\n my mistake invition send u !\")\n",
    "c=[\"usama\"]\n",
    "for y in c:\n",
    "            print(y + \":my mistake i am late to invite the party \\n please come my party today!\")    \n"
   ]
  },
  {
   "cell_type": "code",
   "execution_count": 54,
   "metadata": {},
   "outputs": [
    {
     "name": "stdout",
     "output_type": "stream",
     "text": [
      "sameer:please come my party today!\n",
      "sharjeel:please come my party today!\n",
      "ahmed:please come my party today!\n",
      "ahmed:sorry mistake , u don't come party \n",
      " my mistake invition send u !\n",
      "usama:my mistake i am late to invite the party \n",
      " please come my party today!\n",
      ":their is new list\n",
      "jamal:please come my party today!\n",
      "sameer:please come my party today!\n",
      "sharjeel:please come my party today!\n",
      "ahmed:please come my party today!\n"
     ]
    }
   ],
   "source": [
    "a=[\"sameer\",\"sharjeel\",\"ahmed\"]\n",
    "for i in a:\n",
    "     print(i + \":please come my party today!\")\n",
    "b=[\"ahmed\"]\n",
    "for x in b:\n",
    "             print(x +\":sorry mistake , u don't come party \\n my mistake invition send u !\")\n",
    "c=[\"usama\"]\n",
    "for y in c:\n",
    "            print(y + \":my mistake i am late to invite the party \\n please come my party today!\")    \n",
    "\n",
    "print(\":their is new list\")\n",
    "a.insert(0,'jamal')\n",
    "for z in a:\n",
    "            print(z + \":please come my party today!\")"
   ]
  },
  {
   "cell_type": "code",
   "execution_count": 56,
   "metadata": {},
   "outputs": [
    {
     "name": "stdout",
     "output_type": "stream",
     "text": [
      "sameer:please come my party today!\n",
      "sharjeel:please come my party today!\n",
      "ahmed:please come my party today!\n",
      "ahmed:sorry mistake , u don't come party \n",
      " my mistake invition send u !\n",
      "usama:my mistake i am late to invite the party \n",
      " please come my party today!\n",
      "jamal:please come my party today!\n",
      "sameer:please come my party today!\n",
      "sharjeel:please come my party today!\n",
      "ahmed:please come my party today!\n",
      ":their is new list\n",
      "jamal:please come my party today!\n",
      "sameer:please come my party today!\n",
      "shakat:please come my party today!\n",
      "sharjeel:please come my party today!\n",
      "ahmed:please come my party today!\n"
     ]
    }
   ],
   "source": [
    "a=[\"sameer\",\"sharjeel\",\"ahmed\"]\n",
    "for i in a:\n",
    "     print(i + \":please come my party today!\")\n",
    "b=[\"ahmed\"]\n",
    "for x in b:\n",
    "             print(x +\":sorry mistake , u don't come party \\n my mistake invition send u !\")\n",
    "c=[\"usama\"]\n",
    "for y in c:\n",
    "            print(y + \":my mistake i am late to invite the party \\n please come my party today!\")    \n",
    "\n",
    "a.insert(0,'jamal')\n",
    "for z in a:\n",
    "            print(z + \":please come my party today!\")\n",
    "print(\":their is new list\")\n",
    "a.insert(2,'shakat')\n",
    "for w in a:\n",
    "             print(w + \":please come my party today!\")"
   ]
  },
  {
   "cell_type": "code",
   "execution_count": 60,
   "metadata": {
    "scrolled": true
   },
   "outputs": [
    {
     "name": "stdout",
     "output_type": "stream",
     "text": [
      "sameer:please come my party today!\n",
      "sharjeel:please come my party today!\n",
      "ahmed:please come my party today!\n",
      "ahmed:sorry mistake , u don't come party \n",
      " my mistake invition send u !\n",
      "usama:my mistake i am late to invite the party \n",
      " please come my party today!\n",
      "jamal:please come my party today!\n",
      "sameer:please come my party today!\n",
      "sharjeel:please come my party today!\n",
      "ahmed:please come my party today!\n",
      ":their is new list\n",
      "jamal:please come my party today!\n",
      "sameer:please come my party today!\n",
      "shakat:please come my party today!\n",
      "sharjeel:please come my party today!\n",
      "ahmed:please come my party today!\n",
      ":their is new list\n",
      "jamal:please come my party today!\n",
      "sameer:please come my party today!\n",
      "shakat:please come my party today!\n",
      "sharjeel:please come my party today!\n",
      "ahmed:please come my party today!\n",
      "rafiq:please come my party today!\n"
     ]
    }
   ],
   "source": [
    "a=[\"sameer\",\"sharjeel\",\"ahmed\"]\n",
    "for i in a:\n",
    "     print(i + \":please come my party today!\")\n",
    "b=[\"ahmed\"]\n",
    "for x in b:\n",
    "             print(x +\":sorry mistake , u don't come party \\n my mistake invition send u !\")\n",
    "c=[\"usama\"]\n",
    "for y in c:\n",
    "            print(y + \":my mistake i am late to invite the party \\n please come my party today!\")    \n",
    "a.insert(0,'jamal')\n",
    "for z in a:\n",
    "            print(z + \":please come my party today!\")\n",
    "print(\":their is new list\")\n",
    "a.insert(2,'shakat')\n",
    "for w in a:\n",
    "             print(w + \":please come my party today!\")\n",
    "print(\":their is new list\")\n",
    "a.append('rafiq') \n",
    "for t in a:\n",
    "                print(t + \":please come my party today!\")"
   ]
  },
  {
   "cell_type": "markdown",
   "metadata": {},
   "source": [
    "<h5> Q 5 : Here you have some data in variable below, your task is to make a list of specific word Surah then print the list and length of list</h5>\n"
   ]
  },
  {
   "cell_type": "code",
   "execution_count": 1,
   "metadata": {},
   "outputs": [
    {
     "data": {
      "text/plain": [
       "'Sura I Who believe in the Unseen, Sura Are steadfast in prayer, And spend Sura out of what We Have provided for them;'"
      ]
     },
     "execution_count": 1,
     "metadata": {},
     "output_type": "execute_result"
    }
   ],
   "source": [
    "data = \"Sura I Who believe in the Unseen, Sura Are steadfast in prayer, And spend Sura out of what We Have provided for them;\"\n",
    "data"
   ]
  },
  {
   "cell_type": "code",
   "execution_count": 102,
   "metadata": {},
   "outputs": [
    {
     "name": "stdout",
     "output_type": "stream",
     "text": [
      "['Sura', 'I', 'Who', 'believe', 'in', 'the', 'Unseen,', 'Sura', 'Are', 'steadfast', 'in', 'prayer,', 'And', 'spend', 'Sura', 'out', 'of', 'what', 'We', 'Have', 'provided', 'for', 'them;']\n",
      "['Sura', 'Sura', 'Sura']\n",
      "the length is 3\n"
     ]
    }
   ],
   "source": [
    "data = \"Sura I Who believe in the Unseen, Sura Are steadfast in prayer, And spend Sura out of what We Have provided for them;\"\n",
    "a=data.split(' ')\n",
    "print(a)\n",
    "b=[]\n",
    "for x in a:\n",
    "   if x==\"Sura\":\n",
    "    b.append(x)  \n",
    "print(b)\n",
    "print(\"the length is\",len(b) )"
   ]
  },
  {
   "cell_type": "markdown",
   "metadata": {},
   "source": [
    " <h3>Q no 6 : You have some name of cities in list named cities, Your task is to check whether Karachi is present in this list or not, if present print the index where the value Karachi is present</h3>"
   ]
  },
  {
   "cell_type": "code",
   "execution_count": 133,
   "metadata": {},
   "outputs": [
    {
     "name": "stdout",
     "output_type": "stream",
     "text": [
      "['lahore', 'islamabad']\n",
      "karachi\n",
      "karachi is not present\n",
      "karachi index is 0\n"
     ]
    }
   ],
   "source": [
    "a=[\"lahore\", \"islamabad\"]\n",
    "print(a)\n",
    "b=str(input())\n",
    "\n",
    "a==b\n",
    "for x in a:\n",
    "            if (x==a):\n",
    "              print(\"karachi is present\")\n",
    "else:\n",
    "            print(\"karachi is not present\")\n",
    "            print(\"karachi index is 0\")"
   ]
  },
  {
   "cell_type": "code",
   "execution_count": null,
   "metadata": {},
   "outputs": [],
   "source": []
  },
  {
   "cell_type": "code",
   "execution_count": null,
   "metadata": {},
   "outputs": [],
   "source": []
  }
 ],
 "metadata": {
  "kernelspec": {
   "display_name": "Python 3",
   "language": "python",
   "name": "python3"
  },
  "language_info": {
   "codemirror_mode": {
    "name": "ipython",
    "version": 3
   },
   "file_extension": ".py",
   "mimetype": "text/x-python",
   "name": "python",
   "nbconvert_exporter": "python",
   "pygments_lexer": "ipython3",
   "version": "3.7.3"
  }
 },
 "nbformat": 4,
 "nbformat_minor": 2
}
